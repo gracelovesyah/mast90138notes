{
 "cells": [
  {
   "cell_type": "code",
   "execution_count": 1,
   "metadata": {},
   "outputs": [],
   "source": [
    "def generate_week_files(num_weeks):\n",
    "    for i in range(1, num_weeks+1):\n",
    "        file_name = f\"week{i}.0.md\"\n",
    "        with open(file_name, \"w\") as f:\n",
    "            f.write(f\"# week{i}\\n\")\n",
    "\n",
    "# Change 12 to any number for the desired number of weeks\n",
    "generate_week_files(12)\n"
   ]
  },
  {
   "cell_type": "code",
   "execution_count": 2,
   "metadata": {},
   "outputs": [],
   "source": [
    "import os\n",
    "\n",
    "def file_exists(filename):\n",
    "    \"\"\"Check if a file already exists.\"\"\"\n",
    "    return os.path.isfile(filename)\n",
    "\n",
    "def generate_missing_files(num_weeks):\n",
    "    # These are the files you mentioned that already exist.\n",
    "    existing_files = [\"5.2\", \"6.1\", \"6.2\", \"6.3\", \"7.1\", \"7.2\", \"10.2\", \"11.1\", \"11.2\", \"12.1\"]\n",
    "    \n",
    "    # Generate main week files\n",
    "    for i in range(1, num_weeks+1):\n",
    "        main_file = f\"week{i}.0.md\"\n",
    "        if not file_exists(main_file):\n",
    "            with open(main_file, \"w\") as f:\n",
    "                f.write(f\"# week{i}\\n\")\n",
    "                \n",
    "        # Generate subsection files for each week\n",
    "        for j in range(1, 4):  # Assuming each week can have subsections .1, .2, .3\n",
    "            subsection_file = f\"week{i}.{j}.md\"\n",
    "            \n",
    "            # Determine title based on subsection\n",
    "            if j == 1:\n",
    "                title = f\"# week{i} lec 1\"\n",
    "            elif j == 2:\n",
    "                title = f\"# week{i} lec 2\"\n",
    "            else:  # j == 3\n",
    "                title = f\"# week{i} additional notes\"\n",
    "            \n",
    "            if not file_exists(subsection_file) and f\"{i}.{j}\" not in existing_files:\n",
    "                with open(subsection_file, \"w\") as f:\n",
    "                    f.write(title + \"\\n\")\n",
    "\n",
    "# Generate files for weeks 1 through 12\n",
    "generate_missing_files(12)\n"
   ]
  },
  {
   "cell_type": "code",
   "execution_count": 3,
   "metadata": {},
   "outputs": [
    {
     "ename": "OSError",
     "evalue": "[Errno 30] Read-only file system: '/review1.md'",
     "output_type": "error",
     "traceback": [
      "\u001b[0;31m---------------------------------------------------------------------------\u001b[0m",
      "\u001b[0;31mOSError\u001b[0m                                   Traceback (most recent call last)",
      "Cell \u001b[0;32mIn[3], line 9\u001b[0m\n\u001b[1;32m      6\u001b[0m     \u001b[38;5;28;01mreturn\u001b[39;00m filename\n\u001b[1;32m      8\u001b[0m \u001b[38;5;66;03m# Create 5 markdown files for reviews 1 to 5\u001b[39;00m\n\u001b[0;32m----> 9\u001b[0m md_files \u001b[38;5;241m=\u001b[39m \u001b[43m[\u001b[49m\u001b[43mcreate_md_file\u001b[49m\u001b[43m(\u001b[49m\u001b[43mi\u001b[49m\u001b[43m)\u001b[49m\u001b[43m \u001b[49m\u001b[38;5;28;43;01mfor\u001b[39;49;00m\u001b[43m \u001b[49m\u001b[43mi\u001b[49m\u001b[43m \u001b[49m\u001b[38;5;129;43;01min\u001b[39;49;00m\u001b[43m \u001b[49m\u001b[38;5;28;43mrange\u001b[39;49m\u001b[43m(\u001b[49m\u001b[38;5;241;43m1\u001b[39;49m\u001b[43m,\u001b[49m\u001b[43m \u001b[49m\u001b[38;5;241;43m6\u001b[39;49m\u001b[43m)\u001b[49m\u001b[43m]\u001b[49m\n",
      "Cell \u001b[0;32mIn[3], line 9\u001b[0m, in \u001b[0;36m<listcomp>\u001b[0;34m(.0)\u001b[0m\n\u001b[1;32m      6\u001b[0m     \u001b[38;5;28;01mreturn\u001b[39;00m filename\n\u001b[1;32m      8\u001b[0m \u001b[38;5;66;03m# Create 5 markdown files for reviews 1 to 5\u001b[39;00m\n\u001b[0;32m----> 9\u001b[0m md_files \u001b[38;5;241m=\u001b[39m [\u001b[43mcreate_md_file\u001b[49m\u001b[43m(\u001b[49m\u001b[43mi\u001b[49m\u001b[43m)\u001b[49m \u001b[38;5;28;01mfor\u001b[39;00m i \u001b[38;5;129;01min\u001b[39;00m \u001b[38;5;28mrange\u001b[39m(\u001b[38;5;241m1\u001b[39m, \u001b[38;5;241m6\u001b[39m)]\n",
      "Cell \u001b[0;32mIn[3], line 4\u001b[0m, in \u001b[0;36mcreate_md_file\u001b[0;34m(review_num)\u001b[0m\n\u001b[1;32m      2\u001b[0m \u001b[38;5;28;01mdef\u001b[39;00m \u001b[38;5;21mcreate_md_file\u001b[39m(review_num):\n\u001b[1;32m      3\u001b[0m     filename \u001b[38;5;241m=\u001b[39m \u001b[38;5;124mf\u001b[39m\u001b[38;5;124m\"\u001b[39m\u001b[38;5;124m/review\u001b[39m\u001b[38;5;132;01m{\u001b[39;00mreview_num\u001b[38;5;132;01m}\u001b[39;00m\u001b[38;5;124m.md\u001b[39m\u001b[38;5;124m\"\u001b[39m\n\u001b[0;32m----> 4\u001b[0m     \u001b[38;5;28;01mwith\u001b[39;00m \u001b[38;5;28;43mopen\u001b[39;49m\u001b[43m(\u001b[49m\u001b[43mfilename\u001b[49m\u001b[43m,\u001b[49m\u001b[43m \u001b[49m\u001b[38;5;124;43m'\u001b[39;49m\u001b[38;5;124;43mw\u001b[39;49m\u001b[38;5;124;43m'\u001b[39;49m\u001b[43m)\u001b[49m \u001b[38;5;28;01mas\u001b[39;00m f:\n\u001b[1;32m      5\u001b[0m         f\u001b[38;5;241m.\u001b[39mwrite(\u001b[38;5;124mf\u001b[39m\u001b[38;5;124m\"\u001b[39m\u001b[38;5;124m# Review \u001b[39m\u001b[38;5;132;01m{\u001b[39;00mreview_num\u001b[38;5;132;01m}\u001b[39;00m\u001b[38;5;130;01m\\n\u001b[39;00m\u001b[38;5;130;01m\\n\u001b[39;00m\u001b[38;5;124m\"\u001b[39m)  \u001b[38;5;66;03m# Writing the header for the markdown file\u001b[39;00m\n\u001b[1;32m      6\u001b[0m     \u001b[38;5;28;01mreturn\u001b[39;00m filename\n",
      "File \u001b[0;32m~/Library/Python/3.11/lib/python/site-packages/IPython/core/interactiveshell.py:284\u001b[0m, in \u001b[0;36m_modified_open\u001b[0;34m(file, *args, **kwargs)\u001b[0m\n\u001b[1;32m    277\u001b[0m \u001b[38;5;28;01mif\u001b[39;00m file \u001b[38;5;129;01min\u001b[39;00m {\u001b[38;5;241m0\u001b[39m, \u001b[38;5;241m1\u001b[39m, \u001b[38;5;241m2\u001b[39m}:\n\u001b[1;32m    278\u001b[0m     \u001b[38;5;28;01mraise\u001b[39;00m \u001b[38;5;167;01mValueError\u001b[39;00m(\n\u001b[1;32m    279\u001b[0m         \u001b[38;5;124mf\u001b[39m\u001b[38;5;124m\"\u001b[39m\u001b[38;5;124mIPython won\u001b[39m\u001b[38;5;124m'\u001b[39m\u001b[38;5;124mt let you open fd=\u001b[39m\u001b[38;5;132;01m{\u001b[39;00mfile\u001b[38;5;132;01m}\u001b[39;00m\u001b[38;5;124m by default \u001b[39m\u001b[38;5;124m\"\u001b[39m\n\u001b[1;32m    280\u001b[0m         \u001b[38;5;124m\"\u001b[39m\u001b[38;5;124mas it is likely to crash IPython. If you know what you are doing, \u001b[39m\u001b[38;5;124m\"\u001b[39m\n\u001b[1;32m    281\u001b[0m         \u001b[38;5;124m\"\u001b[39m\u001b[38;5;124myou can use builtins\u001b[39m\u001b[38;5;124m'\u001b[39m\u001b[38;5;124m open.\u001b[39m\u001b[38;5;124m\"\u001b[39m\n\u001b[1;32m    282\u001b[0m     )\n\u001b[0;32m--> 284\u001b[0m \u001b[38;5;28;01mreturn\u001b[39;00m \u001b[43mio_open\u001b[49m\u001b[43m(\u001b[49m\u001b[43mfile\u001b[49m\u001b[43m,\u001b[49m\u001b[43m \u001b[49m\u001b[38;5;241;43m*\u001b[39;49m\u001b[43margs\u001b[49m\u001b[43m,\u001b[49m\u001b[43m \u001b[49m\u001b[38;5;241;43m*\u001b[39;49m\u001b[38;5;241;43m*\u001b[39;49m\u001b[43mkwargs\u001b[49m\u001b[43m)\u001b[49m\n",
      "\u001b[0;31mOSError\u001b[0m: [Errno 30] Read-only file system: '/review1.md'"
     ]
    }
   ],
   "source": [
    "# Function to create a markdown file with a specific review number\n",
    "def create_md_file(review_num):\n",
    "    filename = f\"/review{review_num}.md\"\n",
    "    with open(filename, 'w') as f:\n",
    "        f.write(f\"# Review {review_num}\\n\\n\")  # Writing the header for the markdown file\n",
    "    return filename\n",
    "\n",
    "# Create 5 markdown files for reviews 1 to 5\n",
    "md_files = [create_md_file(i) for i in range(1, 6)]\n"
   ]
  },
  {
   "cell_type": "code",
   "execution_count": null,
   "metadata": {},
   "outputs": [],
   "source": [
    "def generate_week_files(num_weeks):\n",
    "    for i in range(1, num_weeks+1):\n",
    "        file_name = f\"review{i}.0.md\"\n",
    "        with open(file_name, \"w\") as f:\n",
    "            f.write(f\"# review{i}\\n\")\n",
    "\n",
    "# Change 12 to any number for the desired number of weeks\n",
    "generate_week_files(5)"
   ]
  }
 ],
 "metadata": {
  "kernelspec": {
   "display_name": "base",
   "language": "python",
   "name": "python3"
  },
  "language_info": {
   "codemirror_mode": {
    "name": "ipython",
    "version": 3
   },
   "file_extension": ".py",
   "mimetype": "text/x-python",
   "name": "python",
   "nbconvert_exporter": "python",
   "pygments_lexer": "ipython3",
   "version": "3.11.0"
  }
 },
 "nbformat": 4,
 "nbformat_minor": 2
}