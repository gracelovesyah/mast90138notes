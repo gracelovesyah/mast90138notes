{
 "cells": [
  {
   "cell_type": "code",
   "execution_count": 1,
   "metadata": {},
   "outputs": [],
   "source": [
    "def generate_week_files(num_weeks):\n",
    "    for i in range(1, num_weeks+1):\n",
    "        file_name = f\"week{i}.0.md\"\n",
    "        with open(file_name, \"w\") as f:\n",
    "            f.write(f\"# week{i}\\n\")\n",
    "\n",
    "# Change 12 to any number for the desired number of weeks\n",
    "generate_week_files(12)\n"
   ]
  },
  {
   "cell_type": "code",
   "execution_count": 2,
   "metadata": {},
   "outputs": [],
   "source": [
    "import os\n",
    "\n",
    "def file_exists(filename):\n",
    "    \"\"\"Check if a file already exists.\"\"\"\n",
    "    return os.path.isfile(filename)\n",
    "\n",
    "def generate_missing_files(num_weeks):\n",
    "    # These are the files you mentioned that already exist.\n",
    "    existing_files = [\"5.2\", \"6.1\", \"6.2\", \"6.3\", \"7.1\", \"7.2\", \"10.2\", \"11.1\", \"11.2\", \"12.1\"]\n",
    "    \n",
    "    # Generate main week files\n",
    "    for i in range(1, num_weeks+1):\n",
    "        main_file = f\"week{i}.0.md\"\n",
    "        if not file_exists(main_file):\n",
    "            with open(main_file, \"w\") as f:\n",
    "                f.write(f\"# week{i}\\n\")\n",
    "                \n",
    "        # Generate subsection files for each week\n",
    "        for j in range(1, 4):  # Assuming each week can have subsections .1, .2, .3\n",
    "            subsection_file = f\"week{i}.{j}.md\"\n",
    "            \n",
    "            # Determine title based on subsection\n",
    "            if j == 1:\n",
    "                title = f\"# week{i} lec 1\"\n",
    "            elif j == 2:\n",
    "                title = f\"# week{i} lec 2\"\n",
    "            else:  # j == 3\n",
    "                title = f\"# week{i} additional notes\"\n",
    "            \n",
    "            if not file_exists(subsection_file) and f\"{i}.{j}\" not in existing_files:\n",
    "                with open(subsection_file, \"w\") as f:\n",
    "                    f.write(title + \"\\n\")\n",
    "\n",
    "# Generate files for weeks 1 through 12\n",
    "generate_missing_files(12)\n"
   ]
  }
 ],
 "metadata": {
  "kernelspec": {
   "display_name": "base",
   "language": "python",
   "name": "python3"
  },
  "language_info": {
   "codemirror_mode": {
    "name": "ipython",
    "version": 3
   },
   "file_extension": ".py",
   "mimetype": "text/x-python",
   "name": "python",
   "nbconvert_exporter": "python",
   "pygments_lexer": "ipython3",
   "version": "3.11.0"
  }
 },
 "nbformat": 4,
 "nbformat_minor": 2
}