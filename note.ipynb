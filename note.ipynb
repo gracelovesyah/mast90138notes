{
 "cells": [
  {
   "cell_type": "code",
   "execution_count": 1,
   "metadata": {},
   "outputs": [],
   "source": [
    "def generate_week_files(num_weeks):\n",
    "    for i in range(1, num_weeks+1):\n",
    "        file_name = f\"week{i}.0.md\"\n",
    "        with open(file_name, \"w\") as f:\n",
    "            f.write(f\"# week{i}\\n\")\n",
    "\n",
    "# Change 12 to any number for the desired number of weeks\n",
    "generate_week_files(12)\n"
   ]
  },
  {
   "cell_type": "code",
   "execution_count": 2,
   "metadata": {},
   "outputs": [],
   "source": [
    "import os\n",
    "\n",
    "def file_exists(filename):\n",
    "    \"\"\"Check if a file already exists.\"\"\"\n",
    "    return os.path.isfile(filename)\n",
    "\n",
    "def generate_missing_files(num_weeks):\n",
    "    # These are the files you mentioned that already exist.\n",
    "    existing_files = [\"5.2\", \"6.1\", \"6.2\", \"6.3\", \"7.1\", \"7.2\", \"10.2\", \"11.1\", \"11.2\", \"12.1\"]\n",
    "    \n",
    "    # Generate main week files\n",
    "    for i in range(1, num_weeks+1):\n",
    "        main_file = f\"week{i}.0.md\"\n",
    "        if not file_exists(main_file):\n",
    "            with open(main_file, \"w\") as f:\n",
    "                f.write(f\"# week{i}\\n\")\n",
    "                \n",
    "        # Generate subsection files for each week\n",
    "        for j in range(1, 4):  # Assuming each week can have subsections .1, .2, .3\n",
    "            subsection_file = f\"week{i}.{j}.md\"\n",
    "            \n",
    "            # Determine title based on subsection\n",
    "            if j == 1:\n",
    "                title = f\"# week{i} lec 1\"\n",
    "            elif j == 2:\n",
    "                title = f\"# week{i} lec 2\"\n",
    "            else:  # j == 3\n",
    "                title = f\"# week{i} additional notes\"\n",
    "            \n",
    "            if not file_exists(subsection_file) and f\"{i}.{j}\" not in existing_files:\n",
    "                with open(subsection_file, \"w\") as f:\n",
    "                    f.write(title + \"\\n\")\n",
    "\n",
    "# Generate files for weeks 1 through 12\n",
    "generate_missing_files(12)\n"
   ]
  },
  {
   "cell_type": "code",
   "execution_count": 2,
   "metadata": {},
   "outputs": [
    {
     "ename": "OSError",
     "evalue": "[Errno 30] Read-only file system: '/review1.md'",
     "output_type": "error",
     "traceback": [
      "\u001b[0;31m---------------------------------------------------------------------------\u001b[0m",
      "\u001b[0;31mOSError\u001b[0m                                   Traceback (most recent call last)",
      "\u001b[0;32m<ipython-input-2-66cf6739157a>\u001b[0m in \u001b[0;36m<module>\u001b[0;34m\u001b[0m\n\u001b[1;32m      7\u001b[0m \u001b[0;34m\u001b[0m\u001b[0m\n\u001b[1;32m      8\u001b[0m \u001b[0;31m# Create 5 markdown files for reviews 1 to 5\u001b[0m\u001b[0;34m\u001b[0m\u001b[0;34m\u001b[0m\u001b[0;34m\u001b[0m\u001b[0m\n\u001b[0;32m----> 9\u001b[0;31m \u001b[0mmd_files\u001b[0m \u001b[0;34m=\u001b[0m \u001b[0;34m[\u001b[0m\u001b[0mcreate_md_file\u001b[0m\u001b[0;34m(\u001b[0m\u001b[0mi\u001b[0m\u001b[0;34m)\u001b[0m \u001b[0;32mfor\u001b[0m \u001b[0mi\u001b[0m \u001b[0;32min\u001b[0m \u001b[0mrange\u001b[0m\u001b[0;34m(\u001b[0m\u001b[0;36m1\u001b[0m\u001b[0;34m,\u001b[0m \u001b[0;36m6\u001b[0m\u001b[0;34m)\u001b[0m\u001b[0;34m]\u001b[0m\u001b[0;34m\u001b[0m\u001b[0;34m\u001b[0m\u001b[0m\n\u001b[0m",
      "\u001b[0;32m<ipython-input-2-66cf6739157a>\u001b[0m in \u001b[0;36m<listcomp>\u001b[0;34m(.0)\u001b[0m\n\u001b[1;32m      7\u001b[0m \u001b[0;34m\u001b[0m\u001b[0m\n\u001b[1;32m      8\u001b[0m \u001b[0;31m# Create 5 markdown files for reviews 1 to 5\u001b[0m\u001b[0;34m\u001b[0m\u001b[0;34m\u001b[0m\u001b[0;34m\u001b[0m\u001b[0m\n\u001b[0;32m----> 9\u001b[0;31m \u001b[0mmd_files\u001b[0m \u001b[0;34m=\u001b[0m \u001b[0;34m[\u001b[0m\u001b[0mcreate_md_file\u001b[0m\u001b[0;34m(\u001b[0m\u001b[0mi\u001b[0m\u001b[0;34m)\u001b[0m \u001b[0;32mfor\u001b[0m \u001b[0mi\u001b[0m \u001b[0;32min\u001b[0m \u001b[0mrange\u001b[0m\u001b[0;34m(\u001b[0m\u001b[0;36m1\u001b[0m\u001b[0;34m,\u001b[0m \u001b[0;36m6\u001b[0m\u001b[0;34m)\u001b[0m\u001b[0;34m]\u001b[0m\u001b[0;34m\u001b[0m\u001b[0;34m\u001b[0m\u001b[0m\n\u001b[0m",
      "\u001b[0;32m<ipython-input-2-66cf6739157a>\u001b[0m in \u001b[0;36mcreate_md_file\u001b[0;34m(review_num)\u001b[0m\n\u001b[1;32m      2\u001b[0m \u001b[0;32mdef\u001b[0m \u001b[0mcreate_md_file\u001b[0m\u001b[0;34m(\u001b[0m\u001b[0mreview_num\u001b[0m\u001b[0;34m)\u001b[0m\u001b[0;34m:\u001b[0m\u001b[0;34m\u001b[0m\u001b[0;34m\u001b[0m\u001b[0m\n\u001b[1;32m      3\u001b[0m     \u001b[0mfilename\u001b[0m \u001b[0;34m=\u001b[0m \u001b[0;34mf\"/review{review_num}.md\"\u001b[0m\u001b[0;34m\u001b[0m\u001b[0;34m\u001b[0m\u001b[0m\n\u001b[0;32m----> 4\u001b[0;31m     \u001b[0;32mwith\u001b[0m \u001b[0mopen\u001b[0m\u001b[0;34m(\u001b[0m\u001b[0mfilename\u001b[0m\u001b[0;34m,\u001b[0m \u001b[0;34m'w'\u001b[0m\u001b[0;34m)\u001b[0m \u001b[0;32mas\u001b[0m \u001b[0mf\u001b[0m\u001b[0;34m:\u001b[0m\u001b[0;34m\u001b[0m\u001b[0;34m\u001b[0m\u001b[0m\n\u001b[0m\u001b[1;32m      5\u001b[0m         \u001b[0mf\u001b[0m\u001b[0;34m.\u001b[0m\u001b[0mwrite\u001b[0m\u001b[0;34m(\u001b[0m\u001b[0;34mf\"# Review {review_num}\\n\\n\"\u001b[0m\u001b[0;34m)\u001b[0m  \u001b[0;31m# Writing the header for the markdown file\u001b[0m\u001b[0;34m\u001b[0m\u001b[0;34m\u001b[0m\u001b[0m\n\u001b[1;32m      6\u001b[0m     \u001b[0;32mreturn\u001b[0m \u001b[0mfilename\u001b[0m\u001b[0;34m\u001b[0m\u001b[0;34m\u001b[0m\u001b[0m\n",
      "\u001b[0;31mOSError\u001b[0m: [Errno 30] Read-only file system: '/review1.md'"
     ]
    }
   ],
   "source": [
    "# Function to create a markdown file with a specific review number\n",
    "def create_md_file(review_num):\n",
    "    filename = f\"/review{review_num}.md\"\n",
    "    with open(filename, 'w') as f:\n",
    "        f.write(f\"# Review {review_num}\\n\\n\")  # Writing the header for the markdown file\n",
    "    return filename\n",
    "\n",
    "# Create 5 markdown files for reviews 1 to 5\n",
    "md_files = [create_md_file(i) for i in range(1, 6)]\n"
   ]
  },
  {
   "cell_type": "code",
   "execution_count": null,
   "metadata": {},
   "outputs": [],
   "source": [
    "def generate_week_files(num_weeks):\n",
    "    for i in range(1, num_weeks+1):\n",
    "        file_name = f\"review{i}.0.md\"\n",
    "        with open(file_name, \"w\") as f:\n",
    "            f.write(f\"# review{i}\\n\")\n",
    "\n",
    "# Change 12 to any number for the desired number of weeks\n",
    "generate_week_files(5)"
   ]
  }
 ],
 "metadata": {
  "kernelspec": {
   "display_name": "base",
   "language": "python",
   "name": "python3"
  },
  "language_info": {
   "codemirror_mode": {
    "name": "ipython",
    "version": 3
   },
   "file_extension": ".py",
   "mimetype": "text/x-python",
   "name": "python",
   "nbconvert_exporter": "python",
   "pygments_lexer": "ipython3",
   "version": "3.8.5"
  },
  "orig_nbformat": 4
 },
 "nbformat": 4,
 "nbformat_minor": 2
}
